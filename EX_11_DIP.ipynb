{
  "nbformat": 4,
  "nbformat_minor": 0,
  "metadata": {
    "colab": {
      "provenance": []
    },
    "kernelspec": {
      "name": "python3",
      "display_name": "Python 3"
    },
    "language_info": {
      "name": "python"
    }
  },
  "cells": [
    {
      "cell_type": "code",
      "execution_count": 1,
      "metadata": {
        "colab": {
          "base_uri": "https://localhost:8080/"
        },
        "id": "k4A-hky9gEnx",
        "outputId": "f267ebe3-5cdc-453c-c8ec-1383c400dd09"
      },
      "outputs": [
        {
          "output_type": "stream",
          "name": "stdout",
          "text": [
            "Character | Huffman Code\n",
            "-------------------------\n",
            "    i    |    000\n",
            "    g    |    001\n",
            "    f    |    010\n",
            "    n    |    011\n",
            "    h    |    1000\n",
            "    u    |    1001\n",
            "    m    |    1010\n",
            "    a    |    1011\n",
            "         |    1100\n",
            "    c    |    1101\n",
            "    o    |    1110\n",
            "    d    |    1111\n"
          ]
        }
      ],
      "source": [
        "# expt-11-huffman coding\n",
        "\n",
        "# Step 1: Get the input string\n",
        "input_string = \"huffman coding\"  # Example input string\n",
        "# Step 2: Calculate frequency of each character in the input string\n",
        "frequency = {}\n",
        "for char in input_string:\n",
        "    if char in frequency:\n",
        "        frequency[char] += 1\n",
        "    else:\n",
        "        frequency[char] = 1\n",
        "# Step 3: Create tree nodes\n",
        "nodes = [[char, freq] for char, freq in frequency.items()]\n",
        "# Step 4: Main function to implement Huffman coding\n",
        "while len(nodes) > 1:\n",
        "    # Sort nodes based on frequency\n",
        "    nodes = sorted(nodes, key=lambda x: x[1])\n",
        "\n",
        "    # Pick two smallest nodes\n",
        "    left = nodes.pop(0)\n",
        "    right = nodes.pop(0)\n",
        "\n",
        "    # Create a new node with combined frequency\n",
        "    new_node = [[left, right], left[1] + right[1]]\n",
        "    nodes.append(new_node)\n",
        "\n",
        "# The final node is the Huffman tree\n",
        "huffman_tree = nodes[0]\n",
        "# Step 5: Generate Huffman codes\n",
        "huffman_codes = {}\n",
        "\n",
        "def generate_codes(tree, code=\"\"):\n",
        "    if isinstance(tree[0], str):  # If it's a leaf node\n",
        "        huffman_codes[tree[0]] = code\n",
        "    else:  # If it's an internal node, recurse\n",
        "        generate_codes(tree[0][0], code + \"0\")\n",
        "        generate_codes(tree[0][1], code + \"1\")\n",
        "\n",
        "generate_codes(huffman_tree)\n",
        "# Step 6: Print the characters and their Huffman codes\n",
        "print(\"Character | Huffman Code\")\n",
        "print(\"-------------------------\")\n",
        "for char, code in huffman_codes.items():\n",
        "    print(f\"    {char}    |    {code}\")"
      ]
    }
  ]
}